{
  "cells": [
    {
      "cell_type": "markdown",
      "metadata": {
        "id": "view-in-github",
        "colab_type": "text"
      },
      "source": [
        "<a href=\"https://colab.research.google.com/github/FaMiyabara/Day-7-Hangman-4-Start/blob/main/Desafios_dio.ipynb\" target=\"_parent\"><img src=\"https://colab.research.google.com/assets/colab-badge.svg\" alt=\"Open In Colab\"/></a>"
      ]
    },
    {
      "cell_type": "code",
      "execution_count": null,
      "metadata": {
        "colab": {
          "base_uri": "https://localhost:8080/"
        },
        "id": "lIYdn1woOS1n",
        "outputId": "09e9a1cb-572e-40fa-c6e1-3739a6b92b72"
      },
      "outputs": [
        {
          "output_type": "stream",
          "name": "stdout",
          "text": [
            "1000\n",
            "500\n",
            "200\n",
            "Saldo atualizado na conta: 1300.0\n"
          ]
        }
      ],
      "source": [
        "saldo_atual = float(input())\n",
        "valor_deposito = float(input())\n",
        "valor_retirada = float(input())\n",
        "def saldo(saldo_atual,valor_deposito,valor_retirada):\n",
        "  saldo_atualizado = saldo_atual+valor_deposito-valor_retirada\n",
        "  return saldo_atualizado\n",
        "print (f\"Saldo atualizado na conta: {saldo(saldo_atual,valor_deposito,valor_retirada)}\")\n"
      ]
    },
    {
      "cell_type": "code",
      "source": [
        "ativos = []\n",
        "\n",
        "# Entrada da quantidade de ativos\n",
        "quantidadeAtivos = int(input())\n",
        "\n",
        "# Entrada dos códigos dos ativos\n",
        "for _ in range(quantidadeAtivos):\n",
        "    codigoAtivo = input()\n",
        "    ativos.append(codigoAtivo)\n",
        "\n",
        "# TODO: Ordenar os ativos em ordem alfabética.\n",
        "ativos_sorted = sorted(ativos)\n",
        "for _ in ativos_sorted:\n",
        "  print(_)"
      ],
      "metadata": {
        "id": "3OqL-N4aE8Wm",
        "outputId": "69cb44b9-e85d-4a4c-8c8d-37b61b31ccd5",
        "colab": {
          "base_uri": "https://localhost:8080/"
        }
      },
      "execution_count": null,
      "outputs": [
        {
          "output_type": "stream",
          "name": "stdout",
          "text": [
            "3\n",
            "Financiamento\n",
            "Deposito\n",
            "Reserva\n",
            "Deposito\n",
            "Financiamento\n",
            "Reserva\n"
          ]
        }
      ]
    },
    {
      "cell_type": "code",
      "source": [
        "# Entrada de dados\n",
        "saldo_total = int(input())\n",
        "valor_saque = int(input())\n",
        "\n",
        "novo_saldo = saldo_total-valor_saque\n",
        "if novo_saldo < 0:\n",
        "    print(\"Saldo insuficiente. Saque nao realizado!\")\n",
        "else:\n",
        "    print(f\"Saque realizado com sucesso! Novo saldo: {(novo_saldo)}\")"
      ],
      "metadata": {
        "id": "4AIvVCeTH7Jw",
        "outputId": "42124405-4f6e-4c8b-e794-29df8b8a9a86",
        "colab": {
          "base_uri": "https://localhost:8080/"
        }
      },
      "execution_count": null,
      "outputs": [
        {
          "output_type": "stream",
          "name": "stdout",
          "text": [
            "1000\n",
            "200\n",
            "Saque realizado com sucesso! Novo saldo: 800\n"
          ]
        }
      ]
    },
    {
      "cell_type": "code",
      "source": [
        "valor_inicial = float(input())\n",
        "taxa_juros = float(input())\n",
        "periodo = int(input())\n",
        "\n",
        "valor_final = valor_inicial\n",
        "\n",
        "#TODO: Iterar, baseado no período em anos, para calculo do valorFinal com os juros.\n",
        "\n",
        "valorFinal = valor_inicial*(1+taxa_juros)**periodo\n",
        "\n",
        "\n",
        "print(f\"Valor final do investimento: R$ {valorFinal:.2f}\" )"
      ],
      "metadata": {
        "id": "X4xo8Lz-KJuI",
        "outputId": "462e265d-958f-4b86-8771-1f892f81620c",
        "colab": {
          "base_uri": "https://localhost:8080/"
        }
      },
      "execution_count": null,
      "outputs": [
        {
          "output_type": "stream",
          "name": "stdout",
          "text": [
            "5000\n",
            "0.08\n",
            "5\n",
            "Valor final do investimento: R$7346.64\n"
          ]
        }
      ]
    },
    {
      "cell_type": "code",
      "source": [
        "valor = float(input())\n",
        "continuar = True\n",
        "while continuar:\n",
        "\n",
        "  if valor > 0:\n",
        "    continuar = False\n",
        "    print(f\"Deposito realizado com sucesso!\\nSaldo atual: R${valor:.2f}\")\n",
        "    break\n",
        "\n",
        "  elif valor < 0:\n",
        "     print(\"Valor invalido! Digite um valor maior que zero.\")\n",
        "     valor = float(input())\n",
        "  elif valor == 0:\n",
        "\n",
        "    print(\"Encerrando o programa...\")\n",
        "    contiuar = False\n",
        "    break"
      ],
      "metadata": {
        "id": "Q7jBiM0aNQ0T",
        "outputId": "d83f31d0-55b6-4ab8-8619-07fc436aee60",
        "colab": {
          "base_uri": "https://localhost:8080/"
        }
      },
      "execution_count": null,
      "outputs": [
        {
          "output_type": "stream",
          "name": "stdout",
          "text": [
            "-99\n",
            "Valor invalido! Digite um valor maior que zero.\n",
            "-34\n",
            "Valor invalido! Digite um valor maior que zero.\n",
            "90\n",
            "Deposito realizado com sucesso!\n",
            "Saldo atual: R$90.00\n"
          ]
        }
      ]
    }
  ],
  "metadata": {
    "colab": {
      "provenance": [],
      "include_colab_link": true
    },
    "kernelspec": {
      "display_name": "Python 3",
      "name": "python3"
    }
  },
  "nbformat": 4,
  "nbformat_minor": 0
}